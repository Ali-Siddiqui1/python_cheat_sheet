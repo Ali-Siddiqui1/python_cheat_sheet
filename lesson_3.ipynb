{
 "cells": [
  {
   "cell_type": "markdown",
   "metadata": {},
   "source": [
    "## Working with files \n",
    "_Your program can read fromt files and write to files. **Files** are opened in **read mode** ('r') by default, but you can also be in **write mode** ('w') and **appened mode** ('a')_"
   ]
  },
  {
   "cell_type": "code",
   "execution_count": 1,
   "metadata": {},
   "outputs": [
    {
     "name": "stdout",
     "output_type": "stream",
     "text": [
      "# python_cheat_sheet\n"
     ]
    }
   ],
   "source": [
    "# Reading a file and storing its lines\n",
    "filename = 'README.md'\n",
    "with open(filename) as file_object:\n",
    "    lines = file_object.readlines()\n",
    "\n",
    "for line in lines:\n",
    "    print(line)"
   ]
  },
  {
   "cell_type": "markdown",
   "metadata": {},
   "source": [
    "## Exceptions\n",
    "_**Exceptions** help you respond appropriately to errors that are likely to occur. You place code that might cause an error in the try block. Code that should run in response to an error goes in the except block. Code that should run only if the try block was successful goes in the else block_."
   ]
  },
  {
   "cell_type": "code",
   "execution_count": 2,
   "metadata": {},
   "outputs": [
    {
     "name": "stdout",
     "output_type": "stream",
     "text": [
      "222\n",
      "Your Rego is printing\n"
     ]
    }
   ],
   "source": [
    "# Catching an exception\n",
    "prompt = \"Please put your last 3 digits rego number\"\n",
    "rego_num = input()\n",
    "\n",
    "try:\n",
    "    rego_num = int(rego_num)\n",
    "except ValueError:\n",
    "    print(\"Please put the correct Rego number\")\n",
    "else:\n",
    "    print(\"Your Rego is printing\")    "
   ]
  },
  {
   "cell_type": "markdown",
   "metadata": {},
   "source": [
    "## Zen of Python\n",
    "**Simple is better than complex**\n",
    "_If you have a choice between a simple and a complex solution, and both work, use the simple solution. Your code will be easier to maintain, and it will be easier for you and others to build on that code later on_."
   ]
  },
  {
   "cell_type": "markdown",
   "metadata": {},
   "source": [
    "## What are list \n",
    "_A **List** stores a series of item in a particular order. List allow you to store set of information in one place, whether you have just few items or millions of items. Lists are one of Python's most powerful features readily accessible to new programmers, and they lie together many important concept in programming_."
   ]
  },
  {
   "cell_type": "markdown",
   "metadata": {},
   "source": [
    "## Defining a list \n",
    "_Use square brackets to define a list, and use commas to separate indivisual items in the list. Use plural names for list, to make your code easier to read_."
   ]
  },
  {
   "cell_type": "code",
   "execution_count": 19,
   "metadata": {},
   "outputs": [],
   "source": [
    "# Making a List\n",
    "user = ['Ram', 'Bjay', 'Ivy', 'suprano']"
   ]
  },
  {
   "cell_type": "markdown",
   "metadata": {},
   "source": [
    "## Accessing elements\n",
    "_Indivisual elements in a list are accessed according to their position, called the index. The index of the first element is 0, the index of the second element is 1, and so forth. Negative indices refers to items at the end of the list. To get a particular element, write the name of the list and then the index of the element in square brackets_."
   ]
  },
  {
   "cell_type": "code",
   "execution_count": 20,
   "metadata": {},
   "outputs": [
    {
     "name": "stdout",
     "output_type": "stream",
     "text": [
      "Ram\n"
     ]
    }
   ],
   "source": [
    "# Getting the first elements\n",
    "first_element = user[0]\n",
    "print(first_element)"
   ]
  },
  {
   "cell_type": "code",
   "execution_count": 21,
   "metadata": {},
   "outputs": [
    {
     "name": "stdout",
     "output_type": "stream",
     "text": [
      "Bjay\n"
     ]
    }
   ],
   "source": [
    "# Getting the second element\n",
    "second_element = user[1]\n",
    "print(second_element)"
   ]
  },
  {
   "cell_type": "code",
   "execution_count": 22,
   "metadata": {},
   "outputs": [
    {
     "name": "stdout",
     "output_type": "stream",
     "text": [
      "suprano\n"
     ]
    }
   ],
   "source": [
    "# Getting the last element\n",
    "last_element = user[-1]\n",
    "print(last_element)"
   ]
  },
  {
   "cell_type": "markdown",
   "metadata": {},
   "source": [
    "## Modifying indivisual items \n",
    "_Once you have defined a list, you can change indivisual elements in the list. You do this by referring to the index of the item you want to modify_."
   ]
  },
  {
   "cell_type": "code",
   "execution_count": 23,
   "metadata": {},
   "outputs": [
    {
     "name": "stdout",
     "output_type": "stream",
     "text": [
      "first user is: Kan second user is:  DJ\n"
     ]
    }
   ],
   "source": [
    "# Changing an element\n",
    "user[0] = 'Kan'\n",
    "user[-2] = 'DJ'\n",
    "print('first user is:', user[0], 'second user is: ', user[-2])"
   ]
  },
  {
   "cell_type": "code",
   "execution_count": 24,
   "metadata": {},
   "outputs": [],
   "source": [
    "# You can add element to the end of a list,\n",
    "# or you can inset them wherever you like in a list \n",
    "\n",
    "# Adding an element to the end of the list \n",
    "user.append('sam')"
   ]
  },
  {
   "cell_type": "code",
   "execution_count": 25,
   "metadata": {},
   "outputs": [
    {
     "name": "stdout",
     "output_type": "stream",
     "text": [
      "['mel', 'Madi', 'Auran']\n"
     ]
    }
   ],
   "source": [
    "# Starting with an empty list\n",
    "user = []\n",
    "user.append('mel')\n",
    "user.append('Madi')\n",
    "user.append('Auran')\n",
    "print(user)"
   ]
  },
  {
   "cell_type": "code",
   "execution_count": 26,
   "metadata": {},
   "outputs": [
    {
     "name": "stdout",
     "output_type": "stream",
     "text": [
      "['jammie', 'nim', 'mel', 'Madi', 'Auran']\n"
     ]
    }
   ],
   "source": [
    "# Insert element at a particular position \n",
    "user.insert(0,'jammie')\n",
    "user.insert(1,'nim')\n",
    "print(user)"
   ]
  },
  {
   "cell_type": "markdown",
   "metadata": {},
   "source": [
    "## Removing elements\n",
    "_You can **remove** by their position in a list, or by the value of the item. If you **remove** an item by its value, Python **removes** only the first item that has that value_."
   ]
  },
  {
   "cell_type": "code",
   "execution_count": 27,
   "metadata": {},
   "outputs": [],
   "source": [
    "# Deleting an element by its position\n",
    "del user[-1]"
   ]
  },
  {
   "cell_type": "code",
   "execution_count": 28,
   "metadata": {},
   "outputs": [
    {
     "name": "stdout",
     "output_type": "stream",
     "text": [
      "['jammie', 'mel', 'Madi']\n"
     ]
    }
   ],
   "source": [
    "# Removing an item by its value\n",
    "user.remove('nim')\n",
    "print(user)"
   ]
  },
  {
   "cell_type": "markdown",
   "metadata": {},
   "source": [
    "## Popping elements \n",
    "_If you want to work an element that you are removing from the list, you can **pop()** takes an item off the top of the stack. By default pop() returns the last element in the list, but you can pop elements from any position in a list_."
   ]
  },
  {
   "cell_type": "code",
   "execution_count": 29,
   "metadata": {},
   "outputs": [
    {
     "name": "stdout",
     "output_type": "stream",
     "text": [
      "Madi\n"
     ]
    }
   ],
   "source": [
    "# Pop the list item from a list\n",
    "most_recent_user = user.pop()\n",
    "print(most_recent_user)"
   ]
  },
  {
   "cell_type": "markdown",
   "metadata": {},
   "source": [
    "## List length\n",
    "The **len** function return the number of items in a list."
   ]
  },
  {
   "cell_type": "code",
   "execution_count": 30,
   "metadata": {},
   "outputs": [
    {
     "name": "stdout",
     "output_type": "stream",
     "text": [
      "we have:  ['jammie', 'mel']\n"
     ]
    }
   ],
   "source": [
    "# Find the length of a list\n",
    "num_user = len(user)\n",
    "print('we have: ', user)"
   ]
  },
  {
   "cell_type": "markdown",
   "metadata": {},
   "source": [
    "## Sorting a list\n",
    "_The **sort()** method changes the order of a list permanently. The **sorted()** function returns a copy of the list, leaving the original list unchanged. You can sort the items in a list in alphabetical order, or reverse alphabetical order. You can also reverse the original order of the list. keep in mind that lowercase and uppercase letters may effect the sort order_"
   ]
  },
  {
   "cell_type": "code",
   "execution_count": 31,
   "metadata": {},
   "outputs": [
    {
     "name": "stdout",
     "output_type": "stream",
     "text": [
      "['jammie', 'mel']\n"
     ]
    }
   ],
   "source": [
    "# Sorting a list permanently\n",
    "user.sort()\n",
    "print(user)"
   ]
  },
  {
   "cell_type": "code",
   "execution_count": 32,
   "metadata": {},
   "outputs": [
    {
     "name": "stdout",
     "output_type": "stream",
     "text": [
      "['mel', 'jammie']\n"
     ]
    }
   ],
   "source": [
    "# Sorting a list permanently in reverse alphabetical order\n",
    "user.sort(reverse=True)\n",
    "print(user)"
   ]
  },
  {
   "cell_type": "code",
   "execution_count": 33,
   "metadata": {},
   "outputs": [
    {
     "name": "stdout",
     "output_type": "stream",
     "text": [
      "['jammie', 'mel']\n",
      "['mel', 'jammie']\n"
     ]
    }
   ],
   "source": [
    "# Sorting a list temporarily\n",
    "print(sorted(user))\n",
    "print(sorted(user, reverse=True))"
   ]
  },
  {
   "cell_type": "code",
   "execution_count": 34,
   "metadata": {},
   "outputs": [
    {
     "name": "stdout",
     "output_type": "stream",
     "text": [
      "['jammie', 'mel']\n"
     ]
    }
   ],
   "source": [
    "# Reversing the order of a list\n",
    "user.reverse()\n",
    "print(user)"
   ]
  },
  {
   "cell_type": "markdown",
   "metadata": {},
   "source": [
    "## Looping through a list\n",
    "**List** can contain millions of items, so Pyton provides an efficent way to loop through all the items in a list. When you set up a loop, Python pulls each item from the list one at a time and stores it in a temporary variable, which you provide a name for. This name should be the singular version of the list name.\n",
    "\n",
    "The identical block of code makes up the body of the loop, where you can work with each indivisual item. Any lines, where you can work with each individual item. Any lines that are not indented run after the loop is completed."
   ]
  },
  {
   "cell_type": "code",
   "execution_count": 36,
   "metadata": {},
   "outputs": [
    {
     "name": "stdout",
     "output_type": "stream",
     "text": [
      "['jammie', 'mel']\n",
      "['jammie', 'mel']\n"
     ]
    }
   ],
   "source": [
    "# Printing all item in a list\n",
    "for users in user:\n",
    "    print(user)"
   ]
  },
  {
   "cell_type": "code",
   "execution_count": 38,
   "metadata": {},
   "outputs": [
    {
     "name": "stdout",
     "output_type": "stream",
     "text": [
      "Welcome,  ['jammie', 'mel'] !\n",
      "Welcome,  ['jammie', 'mel'] !\n",
      "Welcome, we are glad to see you all!\n"
     ]
    }
   ],
   "source": [
    "# Printing a message for each time, and a separate message afterwards\n",
    "for users in user:\n",
    "    print(\"Welcome, \", user, \"!\")\n",
    "print(\"Welcome, we are glad to see you all!\")"
   ]
  }
 ],
 "metadata": {
  "kernelspec": {
   "display_name": "Python 3",
   "language": "python",
   "name": "python3"
  },
  "language_info": {
   "codemirror_mode": {
    "name": "ipython",
    "version": 3
   },
   "file_extension": ".py",
   "mimetype": "text/x-python",
   "name": "python",
   "nbconvert_exporter": "python",
   "pygments_lexer": "ipython3",
   "version": "3.6.5"
  }
 },
 "nbformat": 4,
 "nbformat_minor": 2
}
