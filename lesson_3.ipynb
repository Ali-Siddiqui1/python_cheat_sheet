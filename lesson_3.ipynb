{
 "cells": [
  {
   "cell_type": "markdown",
   "metadata": {},
   "source": [
    "## Working with files \n",
    "Your program can read fromt files and write to files. **Files** are opened in **read mode** ('r') by default, but you can also be in **write mode** ('w') and **appened mode** ('a')"
   ]
  },
  {
   "cell_type": "code",
   "execution_count": 1,
   "metadata": {},
   "outputs": [
    {
     "name": "stdout",
     "output_type": "stream",
     "text": [
      "# python_cheat_sheet\n"
     ]
    }
   ],
   "source": [
    "# Reading a file and storing its lines\n",
    "filename = 'README.md'\n",
    "with open(filename) as file_object:\n",
    "    lines = file_object.readlines()\n",
    "\n",
    "for line in lines:\n",
    "    print(line)"
   ]
  },
  {
   "cell_type": "markdown",
   "metadata": {},
   "source": [
    "## Exceptions\n",
    "**Exceptions** help you respond appropriately to errors that are likely to occur. You place code that might cause an error in the try block. Code that should run in response to an error goes in the except block. Code that should run only if the try block was successful goes in the else block."
   ]
  },
  {
   "cell_type": "code",
   "execution_count": 3,
   "metadata": {},
   "outputs": [
    {
     "name": "stdout",
     "output_type": "stream",
     "text": [
      "121\n",
      "Your Rego is printing\n"
     ]
    }
   ],
   "source": [
    "# Catching an exception\n",
    "prompt = \"Please put your last 3 digits rego number\"\n",
    "rego_num = input()\n",
    "\n",
    "try:\n",
    "    rego_num = int(rego_num)\n",
    "except ValueError:\n",
    "    print(\"Please put the correct Rego number\")\n",
    "else:\n",
    "    print(\"Your Rego is printing\")    "
   ]
  },
  {
   "cell_type": "markdown",
   "metadata": {},
   "source": [
    "## Zen of Python\n",
    "**Simple is better than complex**\n",
    "If you have a choice between a simple and a complex solution, and both work, use the simple solution. Your code will be easier to maintain, and it will be easier for you and others to build on that code later on."
   ]
  },
  {
   "cell_type": "markdown",
   "metadata": {},
   "source": [
    "## What are list \n",
    "A **List** stores a series of item in a particular order. List allow you to store set of information in one place, whether you have just few items or millions of items. Lists are one of Python's most powerful features readily accessible to new programmers, and they lie together many important concept in programming."
   ]
  },
  {
   "cell_type": "markdown",
   "metadata": {},
   "source": [
    "## Defining a list \n",
    "Use square brackets to define a list, and use commas to separate indivisual items in the list. Use plural names for list, to make your code easier to read."
   ]
  },
  {
   "cell_type": "code",
   "execution_count": 4,
   "metadata": {},
   "outputs": [],
   "source": [
    "# Making a List\n",
    "user = ['Ram', 'Bjay', 'Ivy', 'suprano']"
   ]
  },
  {
   "cell_type": "markdown",
   "metadata": {},
   "source": [
    "## Accessing elements\n",
    "Indivisual elements in a list are accessed according to their position, called the index. The index of the first element is 0, the index of the second element is 1, and so forth. Negative indices refers to items at the end of the list. To get a particular element, write the name of the list and then the index of the element in square brackets."
   ]
  },
  {
   "cell_type": "code",
   "execution_count": 7,
   "metadata": {},
   "outputs": [
    {
     "name": "stdout",
     "output_type": "stream",
     "text": [
      "Ram\n"
     ]
    }
   ],
   "source": [
    "# Getting the first elements\n",
    "first_element = user[0]\n",
    "print(first_element)"
   ]
  },
  {
   "cell_type": "code",
   "execution_count": 8,
   "metadata": {},
   "outputs": [
    {
     "name": "stdout",
     "output_type": "stream",
     "text": [
      "Bjay\n"
     ]
    }
   ],
   "source": [
    "# Getting the second element\n",
    "second_element = user[1]\n",
    "print(second_element)"
   ]
  },
  {
   "cell_type": "code",
   "execution_count": 9,
   "metadata": {},
   "outputs": [
    {
     "name": "stdout",
     "output_type": "stream",
     "text": [
      "suprano\n"
     ]
    }
   ],
   "source": [
    "# Getting the last element\n",
    "last_element = user[-1]\n",
    "print(last_element)"
   ]
  },
  {
   "cell_type": "markdown",
   "metadata": {},
   "source": [
    "## Modifying indivisual items \n",
    "Once you have defined a list, you can change indivisual elements in the list. You do this by referring to the index of the item you want to modify."
   ]
  },
  {
   "cell_type": "code",
   "execution_count": 11,
   "metadata": {},
   "outputs": [
    {
     "name": "stdout",
     "output_type": "stream",
     "text": [
      "first user is: Kan second user is:  DJ\n"
     ]
    }
   ],
   "source": [
    "# Changing an element\n",
    "user[0] = 'Kan'\n",
    "user[-2] = 'DJ'\n",
    "print('first user is:', user[0], 'second user is: ', user[-2])"
   ]
  },
  {
   "cell_type": "code",
   "execution_count": null,
   "metadata": {},
   "outputs": [],
   "source": []
  }
 ],
 "metadata": {
  "kernelspec": {
   "display_name": "Python 3",
   "language": "python",
   "name": "python3"
  },
  "language_info": {
   "codemirror_mode": {
    "name": "ipython",
    "version": 3
   },
   "file_extension": ".py",
   "mimetype": "text/x-python",
   "name": "python",
   "nbconvert_exporter": "python",
   "pygments_lexer": "ipython3",
   "version": "3.6.5"
  }
 },
 "nbformat": 4,
 "nbformat_minor": 2
}
