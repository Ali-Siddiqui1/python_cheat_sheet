{
 "cells": [
  {
   "cell_type": "markdown",
   "metadata": {},
   "source": [
    "## The Range Function\n",
    "_You can use the **range()** function to work with a set of numbers efficiently. **The range() function** starts at 0 by default, and stops one number below the number passed to it. You can use the list() function to efficently generate a large list of numbers_."
   ]
  },
  {
   "cell_type": "code",
   "execution_count": 1,
   "metadata": {},
   "outputs": [
    {
     "name": "stdout",
     "output_type": "stream",
     "text": [
      "number:  0\n",
      "number:  1\n",
      "number:  2\n",
      "number:  3\n",
      "number:  4\n",
      "number:  5\n",
      "number:  6\n",
      "number:  7\n",
      "number:  8\n",
      "number:  9\n",
      "number:  10\n",
      "number:  11\n",
      "number:  12\n",
      "number:  13\n",
      "number:  14\n",
      "number:  15\n",
      "number:  16\n",
      "number:  17\n",
      "number:  18\n",
      "number:  19\n"
     ]
    }
   ],
   "source": [
    "# Printing the number 0 to 20\n",
    "for number in range(20): # used 2001 because it counts from 0\n",
    "    print('number: ', number)"
   ]
  },
  {
   "cell_type": "code",
   "execution_count": 2,
   "metadata": {},
   "outputs": [
    {
     "name": "stdout",
     "output_type": "stream",
     "text": [
      "1\n",
      "2\n",
      "3\n",
      "4\n",
      "5\n",
      "6\n",
      "7\n",
      "8\n",
      "9\n",
      "10\n",
      "11\n",
      "12\n",
      "13\n",
      "14\n",
      "15\n",
      "16\n",
      "17\n",
      "18\n",
      "19\n"
     ]
    }
   ],
   "source": [
    "# Printing the numbers 1 to 20\n",
    "for number in range(1, 20): # or can start count from 1\n",
    "    print(number)"
   ]
  },
  {
   "cell_type": "code",
   "execution_count": 3,
   "metadata": {},
   "outputs": [
    {
     "name": "stdout",
     "output_type": "stream",
     "text": [
      "[1, 2, 3, 4, 5, 6, 7, 8, 9, 10, 11, 12, 13, 14, 15, 16, 17, 18, 19]\n"
     ]
    }
   ],
   "source": [
    "# Marking a list of numbers form 1 to 20\n",
    "numbers = list(range(1, 20))\n",
    "print(numbers)"
   ]
  },
  {
   "cell_type": "markdown",
   "metadata": {},
   "source": [
    "## Simple statistics \n",
    "_There are a number of simple statistics you can run on a list containing numerical data_."
   ]
  },
  {
   "cell_type": "code",
   "execution_count": 4,
   "metadata": {},
   "outputs": [
    {
     "name": "stdout",
     "output_type": "stream",
     "text": [
      "youngest 22\n"
     ]
    }
   ],
   "source": [
    "# Finding the minimum value in a list\n",
    "ages = [91,92,93,39,76,38,97,22,25]\n",
    "youngest = min(ages)\n",
    "print('youngest',youngest)"
   ]
  },
  {
   "cell_type": "code",
   "execution_count": 5,
   "metadata": {},
   "outputs": [
    {
     "name": "stdout",
     "output_type": "stream",
     "text": [
      "oldest is: 97\n"
     ]
    }
   ],
   "source": [
    "# Finding the maximum value\n",
    "ages = [91,92,93,39,76,38,97,22,25]\n",
    "oldest = max(ages)\n",
    "print('oldest is:', oldest)"
   ]
  },
  {
   "cell_type": "code",
   "execution_count": 6,
   "metadata": {},
   "outputs": [
    {
     "name": "stdout",
     "output_type": "stream",
     "text": [
      "sum: 573\n"
     ]
    }
   ],
   "source": [
    "# Finding the sum of all values\n",
    "ages = [91,92,93,39,76,38,97,22,25]\n",
    "total_years = sum(ages)\n",
    "print('sum:', total_years)"
   ]
  },
  {
   "cell_type": "markdown",
   "metadata": {},
   "source": [
    "## Slicing a list \n",
    "_You can work with any set of element from a list. A portion of a list is called a slice. To slice a list start with the index of the first item you want, then add a colon and the index after the last item you want, then add a colon and the index after the last item you want. Leave off the first index to start at the begining of the list, and leave off the last index to slice through the end of the list_."
   ]
  },
  {
   "cell_type": "code",
   "execution_count": 7,
   "metadata": {},
   "outputs": [
    {
     "name": "stdout",
     "output_type": "stream",
     "text": [
      "first three: ['kali', 'abe', 'nimmo']\n"
     ]
    }
   ],
   "source": [
    "# Getting the first three items\n",
    "finishers = ['kali', 'abe', 'nimmo', 'ajju']\n",
    "first_three = finishers[:3]\n",
    "print('first three:', first_three)"
   ]
  },
  {
   "cell_type": "code",
   "execution_count": 8,
   "metadata": {},
   "outputs": [
    {
     "name": "stdout",
     "output_type": "stream",
     "text": [
      "middle three:  ['abe', 'nimmo', 'ajju']\n"
     ]
    }
   ],
   "source": [
    "# Getting the middle three items\n",
    "middle_three = finishers[1:4]\n",
    "print('middle three: ', middle_three)"
   ]
  },
  {
   "cell_type": "code",
   "execution_count": 9,
   "metadata": {},
   "outputs": [
    {
     "name": "stdout",
     "output_type": "stream",
     "text": [
      "last items: ['abe', 'nimmo', 'ajju']\n"
     ]
    }
   ],
   "source": [
    "# Getting the last three items\n",
    "last_items = finishers[-3:]\n",
    "print('last items:', last_items)"
   ]
  },
  {
   "cell_type": "markdown",
   "metadata": {},
   "source": [
    "## Copying a list\n",
    "_To **copy a list** make a slice that starts at the first item and ends at the last item. If you try to copy a list without using the approach, whatever you do the **copied list** will affect the original list as well_."
   ]
  },
  {
   "cell_type": "code",
   "execution_count": 10,
   "metadata": {},
   "outputs": [
    {
     "name": "stdout",
     "output_type": "stream",
     "text": [
      "copy_of_the_finishers: ['ajju', 'nimm', 'peanut', 'shaz']\n"
     ]
    }
   ],
   "source": [
    "# Making a copy of a list\n",
    "finishers = ['ajju', 'nimm', 'peanut', 'shaz']\n",
    "copy_of_the_finishers = finishers[:]\n",
    "print('copy_of_the_finishers:', copy_of_the_finishers)"
   ]
  },
  {
   "cell_type": "markdown",
   "metadata": {},
   "source": [
    "## List Comprehensions\n",
    "_You can use a loop to generate a list based on a range of numbers or on another list. This is a common operation, so Python offers a more efficient way to do it. **List** comprehensions may look complicated at first; if so, use the for loop approach until you are ready to start using comprehensions_.\n",
    "\n",
    "_To write a **Comprehension**, define an expression for the values you want to store in a list. Then write a for loop to generate input values needed to make a list_. "
   ]
  },
  {
   "cell_type": "code",
   "execution_count": 11,
   "metadata": {},
   "outputs": [
    {
     "name": "stdout",
     "output_type": "stream",
     "text": [
      "[1]\n",
      "[1, 4]\n",
      "[1, 4, 9]\n",
      "[1, 4, 9, 16]\n",
      "[1, 4, 9, 16, 25]\n",
      "[1, 4, 9, 16, 25, 36]\n",
      "[1, 4, 9, 16, 25, 36, 49]\n",
      "[1, 4, 9, 16, 25, 36, 49, 64]\n",
      "[1, 4, 9, 16, 25, 36, 49, 64, 81]\n",
      "[1, 4, 9, 16, 25, 36, 49, 64, 81, 100]\n"
     ]
    }
   ],
   "source": [
    "# Using a loop to generate a list of square numbers\n",
    "squares = []\n",
    "for x in range(1, 11):\n",
    "    square = x**2\n",
    "    squares.append(square)\n",
    "    print(squares)"
   ]
  },
  {
   "cell_type": "code",
   "execution_count": 12,
   "metadata": {},
   "outputs": [
    {
     "name": "stdout",
     "output_type": "stream",
     "text": [
      "[1, 4, 9, 16, 25, 36, 49, 64, 81, 100]\n"
     ]
    }
   ],
   "source": [
    "# Using a comprehension to generate a list of squares numbers\n",
    "squares = [x**2 for x in range(1,11)]\n",
    "print(squares)"
   ]
  },
  {
   "cell_type": "code",
   "execution_count": 20,
   "metadata": {},
   "outputs": [
    {
     "name": "stdout",
     "output_type": "stream",
     "text": [
      "['AJJU']\n",
      "['AJJU', 'NIMM']\n",
      "['AJJU', 'NIMM', 'PEANUT']\n",
      "['AJJU', 'NIMM', 'PEANUT', 'SHAZ']\n"
     ]
    }
   ],
   "source": [
    "# Using a loop to convert a list of names to upper case\n",
    "names = ['ajju', 'nimm', 'peanut', 'shaz']\n",
    "\n",
    "upper_names = []\n",
    "for name in names:\n",
    "    upper_names.append(name.upper())\n",
    "    print(upper_names)"
   ]
  },
  {
   "cell_type": "code",
   "execution_count": 17,
   "metadata": {},
   "outputs": [
    {
     "name": "stdout",
     "output_type": "stream",
     "text": [
      "['AJJU', 'NIMM', 'PEANUT', 'SHAZ']\n"
     ]
    }
   ],
   "source": [
    "# Using a comprehension to convert a list of names to upper case\n",
    "names = ['ajju', 'nimm', 'peanut', 'shaz']\n",
    "upper_names = [name.upper() for name in names]\n",
    "print(upper_names)"
   ]
  },
  {
   "cell_type": "markdown",
   "metadata": {},
   "source": [
    "## Styling your code \n",
    "**Reading counts**\n",
    "* Use for spaces per indentation level.\n",
    "* Keep your lines to 79 characters or fewer.\n",
    "* Use single blank lines to group parts of your program visually."
   ]
  },
  {
   "cell_type": "markdown",
   "metadata": {},
   "source": [
    "## Tuples\n",
    "_A **Tuples** is like a list, except you can't change the value in a **tuple** once it's defined. **Tuples** are good for storing information that shouldn't be changed throughout the life of a program. **Tuple** are designed by parentheses instead of square brackets. **(You can write an entire tuple, but you can't change the indivisual elements in a tuple).**_"
   ]
  },
  {
   "cell_type": "code",
   "execution_count": 25,
   "metadata": {},
   "outputs": [
    {
     "name": "stdout",
     "output_type": "stream",
     "text": [
      "(800, 600)\n"
     ]
    }
   ],
   "source": [
    "# Defining a tuple\n",
    "dimensions = (800, 600)\n",
    "print(dimensions)"
   ]
  },
  {
   "cell_type": "code",
   "execution_count": 24,
   "metadata": {},
   "outputs": [
    {
     "name": "stdout",
     "output_type": "stream",
     "text": [
      "800\n",
      "600\n"
     ]
    }
   ],
   "source": [
    "# Looping through a tuple\n",
    "for dimension in dimensions:\n",
    "    print(dimension)"
   ]
  },
  {
   "cell_type": "code",
   "execution_count": 28,
   "metadata": {},
   "outputs": [
    {
     "name": "stdout",
     "output_type": "stream",
     "text": [
      "old dimension (800, 600)\n",
      "Overwritten dimension (1200, 900)\n"
     ]
    }
   ],
   "source": [
    "# Overwriting a tuple\n",
    "dimensions = (800, 600)\n",
    "print('old dimension',dimensions)\n",
    "\n",
    "dimensions = (1200, 900)\n",
    "print('Overwritten dimension', dimensions)"
   ]
  },
  {
   "cell_type": "markdown",
   "metadata": {},
   "source": [
    "## Visualizing your code\n",
    "When you are first learning about data structures such as lists, it's "
   ]
  }
 ],
 "metadata": {
  "kernelspec": {
   "display_name": "Python 3",
   "language": "python",
   "name": "python3"
  },
  "language_info": {
   "codemirror_mode": {
    "name": "ipython",
    "version": 3
   },
   "file_extension": ".py",
   "mimetype": "text/x-python",
   "name": "python",
   "nbconvert_exporter": "python",
   "pygments_lexer": "ipython3",
   "version": "3.6.5"
  }
 },
 "nbformat": 4,
 "nbformat_minor": 2
}
