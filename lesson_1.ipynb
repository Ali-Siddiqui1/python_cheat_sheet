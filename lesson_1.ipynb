{
 "cells": [
  {
   "cell_type": "markdown",
   "metadata": {},
   "source": [
    "## Variables and String \n",
    "**Variables** are used to store values. A **string** is a series of characters, surrounded by single or double qoutes.\n"
   ]
  },
  {
   "cell_type": "code",
   "execution_count": 18,
   "metadata": {},
   "outputs": [
    {
     "name": "stdout",
     "output_type": "stream",
     "text": [
      "Hello World\n"
     ]
    }
   ],
   "source": [
    "# Hello World\n",
    "print(\"Hello World\")"
   ]
  },
  {
   "cell_type": "code",
   "execution_count": 3,
   "metadata": {},
   "outputs": [
    {
     "name": "stdout",
     "output_type": "stream",
     "text": [
      "Hello World\n",
      "message Caio\n"
     ]
    }
   ],
   "source": [
    "# Hello World with a variable \n",
    "message = \"Hello World\"\n",
    "print(message)\n",
    "\n",
    "text = \"message \" + \"Caio\"\n",
    "print(text)"
   ]
  },
  {
   "cell_type": "code",
   "execution_count": 20,
   "metadata": {},
   "outputs": [
    {
     "name": "stdout",
     "output_type": "stream",
     "text": [
      "Ryan smith\n"
     ]
    }
   ],
   "source": [
    "# Concantenation(Combining strings)\n",
    "first_name = 'Ryan'\n",
    "last_name = 'smith'\n",
    "full_name = first_name + ' ' + last_name # empty strings used for space\n",
    "print(full_name  + last_name) # print first and last name "
   ]
  },
  {
   "cell_type": "markdown",
   "metadata": {},
   "source": [
    "## List \n",
    "A **list** stores a series of items in a particular order. You can access items using an index, or within a loop"
   ]
  },
  {
   "cell_type": "code",
   "execution_count": 21,
   "metadata": {},
   "outputs": [
    {
     "name": "stdout",
     "output_type": "stream",
     "text": [
      "['Toyota', 'Honda', 'Mazda']\n"
     ]
    }
   ],
   "source": [
    "# Make a list \n",
    "cars = ['Toyota', 'Honda', 'Mazda']\n",
    "print(cars)"
   ]
  },
  {
   "cell_type": "code",
   "execution_count": 36,
   "metadata": {},
   "outputs": [
    {
     "name": "stdout",
     "output_type": "stream",
     "text": [
      "['Toyota', 'Honda', 'Mazda']\n",
      "['Toyota', 'Honda', 'Mazda']\n",
      "['Toyota', 'Honda', 'Mazda']\n"
     ]
    }
   ],
   "source": [
    "# Get the first item in a list \n",
    "\n",
    "first_car = cars[0]\n",
    "\n",
    "# Get the last item in a list \n",
    "\n",
    "second_car = cars[1]\n",
    "\n",
    "# Loop through a list\n",
    "for car in cars:\n",
    "    print(cars)"
   ]
  },
  {
   "cell_type": "code",
   "execution_count": 41,
   "metadata": {},
   "outputs": [],
   "source": [
    "# Adding items to a list\n",
    "cars = []\n",
    "cars.append('Toyota')\n",
    "cars.append('Honda')\n",
    "cars.append('Mazda')"
   ]
  },
  {
   "cell_type": "code",
   "execution_count": 50,
   "metadata": {},
   "outputs": [
    {
     "name": "stdout",
     "output_type": "stream",
     "text": [
      "[0]\n",
      "[0, 1]\n",
      "[0, 1, 4]\n",
      "[0, 1, 4, 9]\n",
      "[0, 1, 4, 9, 16]\n",
      "[0, 1, 4, 9, 16, 25]\n",
      "[0, 1, 4, 9, 16, 25, 36]\n",
      "[0, 1, 4, 9, 16, 25, 36, 49]\n",
      "[0, 1, 4, 9, 16, 25, 36, 49, 64]\n",
      "[0, 1, 4, 9, 16, 25, 36, 49, 64, 81]\n",
      "[0, 1, 4, 9, 16, 25, 36, 49, 64, 81, 100]\n"
     ]
    }
   ],
   "source": [
    "# Making numerical lists\n",
    "squares = []\n",
    "for x in range(1, 11):\n",
    "    squares.append(x**2) # multiply each number by 2\n",
    "    print(squares)"
   ]
  },
  {
   "cell_type": "code",
   "execution_count": 47,
   "metadata": {},
   "outputs": [
    {
     "name": "stdout",
     "output_type": "stream",
     "text": [
      "[1, 4, 9, 16, 25, 36, 49, 64, 81, 100]\n"
     ]
    }
   ],
   "source": [
    "# list comprehensions\n",
    "squares = [x**2 for x in range(1, 11)]\n",
    "print(squares)"
   ]
  },
  {
   "cell_type": "code",
   "execution_count": 52,
   "metadata": {},
   "outputs": [
    {
     "name": "stdout",
     "output_type": "stream",
     "text": [
      "['viki', 'Django']\n"
     ]
    }
   ],
   "source": [
    "# Slicing a list\n",
    "names = ['sam', 'viki', 'Django']\n",
    "last_two = names[1:]\n",
    "print(last_two) # print last two names\n"
   ]
  },
  {
   "cell_type": "code",
   "execution_count": 53,
   "metadata": {},
   "outputs": [
    {
     "name": "stdout",
     "output_type": "stream",
     "text": [
      "['Toyota', 'Honda', 'Mazda']\n"
     ]
    }
   ],
   "source": [
    "# Copying a list\n",
    "copy_of_car = cars[:] # copy into another variable \n",
    "print(copy_of_car)"
   ]
  },
  {
   "cell_type": "markdown",
   "metadata": {},
   "source": [
    "## Tuples\n",
    "**Tuples** are similar to list, but the items in a tuple can't be modified"
   ]
  },
  {
   "cell_type": "code",
   "execution_count": 5,
   "metadata": {},
   "outputs": [
    {
     "name": "stdout",
     "output_type": "stream",
     "text": [
      "fruits are: ('Apple', 'banana', 'kiwi')\n",
      "dimensions are (1920, 1620)\n"
     ]
    }
   ],
   "source": [
    "# Making a tuple \n",
    "fruit_tuple = ('Apple', 'banana', 'kiwi')\n",
    "dimensions = (1920, 1620)\n",
    "print('fruits are:',fruit_tuple)\n",
    "print('dimensions are',dimensions)"
   ]
  },
  {
   "cell_type": "markdown",
   "metadata": {},
   "source": [
    "## If statements \n",
    "**If statements** are used to test for particular conditions and respond appropriately\n",
    "\n",
    "**Conditional Test**\n",
    "\n",
    "**equal**                x == 10\n",
    "\n",
    "**not equal**            x != 10\n",
    "\n",
    "**greater than**         x  > 10\n",
    "\n",
    "**or equal to**          x >= 10\n",
    "\n",
    "**less than**            x <  10\n",
    "\n",
    "**or equal to**          x <= 10\n"
   ]
  },
  {
   "cell_type": "code",
   "execution_count": 11,
   "metadata": {},
   "outputs": [
    {
     "name": "stdout",
     "output_type": "stream",
     "text": [
      "False\n"
     ]
    }
   ],
   "source": [
    "# Assigning boolean values\n",
    "a = 10 \n",
    "b = 20 \n",
    "print(a == b) # answer is false because a is not equal to b"
   ]
  },
  {
   "cell_type": "code",
   "execution_count": 22,
   "metadata": {},
   "outputs": [
    {
     "name": "stdout",
     "output_type": "stream",
     "text": [
      "True 0\n"
     ]
    }
   ],
   "source": [
    "# A simple if test\n",
    "\n",
    "if age < 5:\n",
    "    ticket_price = 0\n",
    "elif age < 18:\n",
    "    ticket_price = 10\n",
    "else:\n",
    "    ticket_price = 20\n",
    "print(age < 18,ticket_price)\n"
   ]
  }
 ],
 "metadata": {
  "kernelspec": {
   "display_name": "Python 3",
   "language": "python",
   "name": "python3"
  },
  "language_info": {
   "codemirror_mode": {
    "name": "ipython",
    "version": 3
   },
   "file_extension": ".py",
   "mimetype": "text/x-python",
   "name": "python",
   "nbconvert_exporter": "python",
   "pygments_lexer": "ipython3",
   "version": "3.8.5"
  }
 },
 "nbformat": 4,
 "nbformat_minor": 2
}
