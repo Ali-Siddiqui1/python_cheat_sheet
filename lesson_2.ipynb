{
 "cells": [
  {
   "cell_type": "markdown",
   "metadata": {},
   "source": [
    "## Dictionaries\n",
    "**Dictionaries** store connection between pieces of information. Each item in a dictionary is a key-value pair."
   ]
  },
  {
   "cell_type": "code",
   "execution_count": 1,
   "metadata": {},
   "outputs": [],
   "source": [
    "# A Simple dictionary \n",
    "car = {'color': 'green', 'points': 10}"
   ]
  },
  {
   "cell_type": "code",
   "execution_count": 2,
   "metadata": {},
   "outputs": [
    {
     "name": "stdout",
     "output_type": "stream",
     "text": [
      "The car's color is green\n"
     ]
    }
   ],
   "source": [
    "# Accessing a value\n",
    "print(\"The car's color is \" +car['color'])"
   ]
  },
  {
   "cell_type": "code",
   "execution_count": 3,
   "metadata": {},
   "outputs": [],
   "source": [
    "# Adding a new key-value pair\n",
    "car['x_position'] = 0"
   ]
  },
  {
   "cell_type": "code",
   "execution_count": 4,
   "metadata": {},
   "outputs": [
    {
     "name": "stdout",
     "output_type": "stream",
     "text": [
      "johnloves a number\n",
      "Ajjuloves a number\n"
     ]
    }
   ],
   "source": [
    "# Looping through all key-value pairs\n",
    "fav_numbers = {'john': 17, 'Ajju': 10}\n",
    "for name, number in fav_numbers.items():\n",
    "    print(name +  'loves a number')"
   ]
  },
  {
   "cell_type": "code",
   "execution_count": 5,
   "metadata": {},
   "outputs": [
    {
     "name": "stdout",
     "output_type": "stream",
     "text": [
      "17 is a favorite\n",
      "10 is a favorite\n"
     ]
    }
   ],
   "source": [
    "# Looping through all the values\n",
    "fav_numbers = {'john': 17, 'Ajju': 10}\n",
    "for number in fav_numbers.values():\n",
    "    print(str(number) + ' is a favorite')"
   ]
  },
  {
   "cell_type": "markdown",
   "metadata": {},
   "source": [
    "## User input\n",
    "your programs can prompt the user for input. All input is stored as a string"
   ]
  },
  {
   "cell_type": "code",
   "execution_count": null,
   "metadata": {},
   "outputs": [],
   "source": [
    "# Prompting for a value\n",
    "name = input(\"What's your name ? \")\n",
    "print(\"Hello, \", name)"
   ]
  },
  {
   "cell_type": "code",
   "execution_count": null,
   "metadata": {},
   "outputs": [],
   "source": [
    "# Prompting for numerical input\n",
    "age = input(\"How old are you? \")\n",
    "age = int(age)\n",
    "print(age)\n",
    "\n",
    "pi = input(\"What's the value of pi? \")\n",
    "pi = float(pi)\n",
    "print(pi)"
   ]
  },
  {
   "cell_type": "markdown",
   "metadata": {},
   "source": [
    "## While Loops\n",
    "A **While** loop repeats a block of code as long as a certain condition is true."
   ]
  },
  {
   "cell_type": "code",
   "execution_count": null,
   "metadata": {},
   "outputs": [],
   "source": [
    "# A simple while loop\n",
    "current_value = 1\n",
    "while current_value <= 5:\n",
    "    print(current_value)\n",
    "    current_value +=1"
   ]
  },
  {
   "cell_type": "code",
   "execution_count": null,
   "metadata": {},
   "outputs": [],
   "source": [
    "message = ''\n",
    "while message != 'quit':\n",
    "    message = input(\"What's your message\")\n",
    "    print(message)"
   ]
  },
  {
   "cell_type": "markdown",
   "metadata": {},
   "source": [
    "## Functions \n",
    "**Functions** are named blocks of code, design to do one specific job. Information passed to a function is called an argument, and information received by a function is called a **parameter**."
   ]
  },
  {
   "cell_type": "code",
   "execution_count": 5,
   "metadata": {},
   "outputs": [
    {
     "name": "stdout",
     "output_type": "stream",
     "text": [
      "Hello!\n"
     ]
    }
   ],
   "source": [
    "# A simple function\n",
    "def greet_user():\n",
    "    \"\"\"Display a simple greeting\"\"\"\n",
    "    print(\"Hello!\")\n",
    "greet_user()"
   ]
  },
  {
   "cell_type": "code",
   "execution_count": 11,
   "metadata": {},
   "outputs": [
    {
     "name": "stdout",
     "output_type": "stream",
     "text": [
      "Hello,shazi!\n"
     ]
    }
   ],
   "source": [
    "# Passing an argument\n",
    "def greet_user(username):\n",
    "    \"\"\"Display a personalized greeting\"\"\"\n",
    "    print(\"Hello,\" + username + \"!\")\n",
    "greet_user('shazi')"
   ]
  },
  {
   "cell_type": "code",
   "execution_count": 10,
   "metadata": {},
   "outputs": [
    {
     "name": "stdout",
     "output_type": "stream",
     "text": [
      "Have a chicken Pizza!\n",
      "Have a cheese Pizza!\n",
      "Have a garlic Pizza!\n"
     ]
    }
   ],
   "source": [
    "# Default values for parameters\n",
    "def make_pizza(topping='chicken'):\n",
    "    \"\"\"Make a single-topping pizza\"\"\"\n",
    "    print(\"Have a \" + topping + \" Pizza!\" )\n",
    "\n",
    "make_pizza()\n",
    "make_pizza('cheese')\n",
    "make_pizza('garlic')"
   ]
  },
  {
   "cell_type": "code",
   "execution_count": 12,
   "metadata": {},
   "outputs": [
    {
     "name": "stdout",
     "output_type": "stream",
     "text": [
      "8\n"
     ]
    }
   ],
   "source": [
    "# Returning a value\n",
    "def add_numbers(x,y):\n",
    "    \"\"\"Add two numbers and return the sum\"\"\"\n",
    "    return x + y\n",
    "sum = add_numbers(3,5)\n",
    "print(sum)"
   ]
  },
  {
   "cell_type": "markdown",
   "metadata": {},
   "source": [
    "## Classes\n",
    "A **Class** defines the behavior of an object and the kind of information an object can store. The information in a class is store in attributes, and functions that belong to a class are called methods. A child class inherits the attributes and method from its parent class."
   ]
  },
  {
   "cell_type": "code",
   "execution_count": 7,
   "metadata": {},
   "outputs": [
    {
     "name": "stdout",
     "output_type": "stream",
     "text": [
      "mini is an excellent cat!\n",
      "mini is sitting.\n",
      "mini is taking shower.\n"
     ]
    }
   ],
   "source": [
    "# Creating a dog class\n",
    "class Cat():\n",
    "    \"\"\"Representing a cat\"\"\"\n",
    "    \n",
    "    def __init__(self, name):\n",
    "        \"\"\"Initialize dog object\"\"\"\n",
    "        self.name = name\n",
    "    \n",
    "    def sit(self):\n",
    "        \"\"\"Simulating sitting\"\"\"\n",
    "        print(self.name + \" is sitting.\")\n",
    "    \n",
    "    def shower(self):\n",
    "        \"\"\"Simulating shower\"\"\"\n",
    "        print(self.name + \" is taking shower.\")\n",
    "        \n",
    "my_cat = Cat('mini')\n",
    "\n",
    "print(my_cat.name + \" is an excellent cat!\")\n",
    "my_cat.sit()\n",
    "my_cat.shower()"
   ]
  },
  {
   "cell_type": "code",
   "execution_count": 13,
   "metadata": {},
   "outputs": [
    {
     "name": "stdout",
     "output_type": "stream",
     "text": [
      "Suprano is searching food.\n",
      "Suprano is sitting.\n",
      "Suprano is searching.\n"
     ]
    }
   ],
   "source": [
    "# Inheritance\n",
    "\n",
    "class Bigcat(Cat):\n",
    "    \"\"\"Reprensenting a different breed of cat\"\"\"\n",
    "    \n",
    "    def __init__(self,name):\n",
    "        \"\"\"Initialize the punch_face_cat\"\"\"\n",
    "        super().__init__(name)\n",
    "        \n",
    "    def search(self):\n",
    "        \"\"\"Simulating searching\"\"\"\n",
    "        print(self.name + \" is searching.\")\n",
    "        \n",
    "my_cat = Bigcat('Suprano')\n",
    "\n",
    "print(my_cat.name + ' is searching food.')\n",
    "my_cat.sit()\n",
    "my_cat.search()"
   ]
  },
  {
   "cell_type": "code",
   "execution_count": null,
   "metadata": {},
   "outputs": [],
   "source": []
  }
 ],
 "metadata": {
  "kernelspec": {
   "display_name": "Python 3",
   "language": "python",
   "name": "python3"
  },
  "language_info": {
   "codemirror_mode": {
    "name": "ipython",
    "version": 3
   },
   "file_extension": ".py",
   "mimetype": "text/x-python",
   "name": "python",
   "nbconvert_exporter": "python",
   "pygments_lexer": "ipython3",
   "version": "3.8.5"
  }
 },
 "nbformat": 4,
 "nbformat_minor": 2
}
