{
 "cells": [
  {
   "cell_type": "markdown",
   "metadata": {},
   "source": [
    "## Dictionaries\n",
    "**Dictionaries** store connection between pieces of information. Each item in a dictionary is a key-value pair."
   ]
  },
  {
   "cell_type": "code",
   "execution_count": 1,
   "metadata": {},
   "outputs": [],
   "source": [
    "# A Simple dictionary \n",
    "car = {'color': 'green', 'points': 10}"
   ]
  },
  {
   "cell_type": "code",
   "execution_count": 5,
   "metadata": {},
   "outputs": [
    {
     "name": "stdout",
     "output_type": "stream",
     "text": [
      "The car's color is green\n"
     ]
    }
   ],
   "source": [
    "# Accessing a value\n",
    "print(\"The car's color is \" +car['color'])"
   ]
  },
  {
   "cell_type": "code",
   "execution_count": 6,
   "metadata": {},
   "outputs": [],
   "source": [
    "# Adding a new key-value pair\n",
    "car['x_position'] = 0"
   ]
  },
  {
   "cell_type": "code",
   "execution_count": 10,
   "metadata": {},
   "outputs": [
    {
     "name": "stdout",
     "output_type": "stream",
     "text": [
      "johnloves a number\n",
      "everloves a number\n"
     ]
    }
   ],
   "source": [
    "# Looping through all key-value pairs\n",
    "fav_numbers = {'john': 17, 'Ajju': 10}\n",
    "for name, number in fav_numbers.items():\n",
    "    print(name +  'loves a number')"
   ]
  },
  {
   "cell_type": "code",
   "execution_count": 11,
   "metadata": {},
   "outputs": [
    {
     "name": "stdout",
     "output_type": "stream",
     "text": [
      "17 is a favorite\n",
      "10 is a favorite\n"
     ]
    }
   ],
   "source": [
    "# Looping through all the values\n",
    "fav_numbers = {'john': 17, 'Ajju': 10}\n",
    "for number in fav_numbers.values():\n",
    "    print(str(number) + ' is a favorite')"
   ]
  },
  {
   "cell_type": "markdown",
   "metadata": {},
   "source": [
    "## User input\n",
    "your programs can prompt the user for input. All input is stored as a string"
   ]
  },
  {
   "cell_type": "code",
   "execution_count": 12,
   "metadata": {},
   "outputs": [
    {
     "name": "stdout",
     "output_type": "stream",
     "text": [
      "What's your name ? Dj\n",
      "Hello,  Dj\n"
     ]
    }
   ],
   "source": [
    "# Prompting for a value\n",
    "name = input(\"What's your name ? \")\n",
    "print(\"Hello, \", name)"
   ]
  },
  {
   "cell_type": "code",
   "execution_count": 14,
   "metadata": {},
   "outputs": [
    {
     "name": "stdout",
     "output_type": "stream",
     "text": [
      "How old are you? 20\n",
      "20\n",
      "What's the value of pi? 21\n",
      "21.0\n"
     ]
    }
   ],
   "source": [
    "# Prompting for numerical input\n",
    "age = input(\"How old are you? \")\n",
    "age = int(age)\n",
    "print(age)\n",
    "\n",
    "pi = input(\"What's the value of pi? \")\n",
    "pi = float(pi)\n",
    "print(pi)"
   ]
  },
  {
   "cell_type": "markdown",
   "metadata": {},
   "source": [
    "## While Loops\n",
    "A **While** loop repeats a block of code as long as a certain condition is true."
   ]
  },
  {
   "cell_type": "code",
   "execution_count": 1,
   "metadata": {},
   "outputs": [
    {
     "name": "stdout",
     "output_type": "stream",
     "text": [
      "1\n",
      "2\n",
      "3\n",
      "4\n",
      "5\n"
     ]
    }
   ],
   "source": [
    "# A simple while loop\n",
    "current_value = 1\n",
    "while current_value <= 5:\n",
    "    print(current_value)\n",
    "    current_value +=1"
   ]
  },
  {
   "cell_type": "code",
   "execution_count": null,
   "metadata": {},
   "outputs": [
    {
     "name": "stdout",
     "output_type": "stream",
     "text": [
      "What's your messageG'day\n",
      "G'day\n"
     ]
    }
   ],
   "source": [
    "message = ''\n",
    "while message != 'quit':\n",
    "    message = input(\"What's your message\")\n",
    "    print(message)"
   ]
  },
  {
   "cell_type": "code",
   "execution_count": null,
   "metadata": {},
   "outputs": [],
   "source": []
  }
 ],
 "metadata": {
  "kernelspec": {
   "display_name": "Python 3",
   "language": "python",
   "name": "python3"
  },
  "language_info": {
   "codemirror_mode": {
    "name": "ipython",
    "version": 3
   },
   "file_extension": ".py",
   "mimetype": "text/x-python",
   "name": "python",
   "nbconvert_exporter": "python",
   "pygments_lexer": "ipython3",
   "version": "3.6.5"
  }
 },
 "nbformat": 4,
 "nbformat_minor": 2
}
