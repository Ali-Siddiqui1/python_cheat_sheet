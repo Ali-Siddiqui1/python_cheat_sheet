{
 "cells": [
  {
   "cell_type": "markdown",
   "metadata": {},
   "source": [
    "## Dictionaries\n",
    "**What are dictionaries?**\n",
    "\n",
    "_Python's **dictionaries** allow you to connect pieces of related information. Each pieces of information in a dictionary is stored as a key-value pair. When you provide a key. You can loop through all the key-value pairs, all the keys, or all the values._"
   ]
  },
  {
   "cell_type": "markdown",
   "metadata": {},
   "source": [
    "## Defining a dictionary \n",
    "Use curly braces to define a dictionary. Use colons to connect keys and values, and use commas to separate indivisual key-value pairs."
   ]
  },
  {
   "cell_type": "code",
   "execution_count": 2,
   "metadata": {},
   "outputs": [],
   "source": [
    "# Making a dictionary\n",
    "a_dictionary = {'color': 'green', 'points': 5}"
   ]
  },
  {
   "cell_type": "markdown",
   "metadata": {},
   "source": [
    "## Accessing Values\n",
    "_To access the value associated with an individual key give the name of the dictionary and then place the key in a set of square brackets. If the keys you're asking for is not in the dictionary, an error will occur_.\n",
    "    You can also use the get() method, which returns None instead of an error if the key doesn't exist. You can also specify a default value to use if the key is not in the dictionary."
   ]
  },
  {
   "cell_type": "code",
   "execution_count": 3,
   "metadata": {},
   "outputs": [
    {
     "name": "stdout",
     "output_type": "stream",
     "text": [
      "green\n",
      "5\n"
     ]
    }
   ],
   "source": [
    "# Getting the value associated with a key\n",
    "a_dictionary = {'color': 'green', 'points': 5}\n",
    "\n",
    "print(a_dictionary['color'])\n",
    "print(a_dictionary['points'])"
   ]
  },
  {
   "cell_type": "code",
   "execution_count": 4,
   "metadata": {},
   "outputs": [
    {
     "name": "stdout",
     "output_type": "stream",
     "text": [
      "green\n",
      "0\n"
     ]
    }
   ],
   "source": [
    "# getting the value with get()\n",
    "a_dictionary = {'color' : 'green'}\n",
    "\n",
    "a_color = a_dictionary.get('color')\n",
    "a_points = a_dictionary.get('points', 0)\n",
    "\n",
    "print(a_color)\n",
    "print(a_points)"
   ]
  },
  {
   "cell_type": "markdown",
   "metadata": {},
   "source": [
    "## Adding new key-value pairs\n",
    "You can store as many key-value pairs as you want in a dictionary, until your computer runs out of memory. To add a new key-value pair to an existing dictionary give the name of the dictionary and the new key in Square brackets, and set it equal to the new value.\n",
    "\n",
    "    This also allows you to start with an empty   dictionary and add key-value pairs as they    become relevant."
   ]
  },
  {
   "cell_type": "code",
   "execution_count": 5,
   "metadata": {},
   "outputs": [
    {
     "name": "stdout",
     "output_type": "stream",
     "text": [
      "{'color': 'green', 'x': 0, 'points': 5, 'speed': 1.5, 'y': 25}\n"
     ]
    }
   ],
   "source": [
    "a_dictionary = {'color': 'green', 'points': 5}\n",
    "a_dictionary['x'] = 0\n",
    "a_dictionary['y'] = 25\n",
    "a_dictionary['speed'] =1.5\n",
    "print(a_dictionary)"
   ]
  },
  {
   "cell_type": "code",
   "execution_count": 6,
   "metadata": {},
   "outputs": [
    {
     "name": "stdout",
     "output_type": "stream",
     "text": [
      "{'color': 'green', 'points': 5}\n"
     ]
    }
   ],
   "source": [
    "# Adding to an empty list\n",
    "a_dictionary = {}\n",
    "a_dictionary['color'] = 'green'\n",
    "a_dictionary['points'] = 5\n",
    "print(a_dictionary)"
   ]
  },
  {
   "cell_type": "markdown",
   "metadata": {},
   "source": [
    "## Removing key-value pairs\n",
    "You can remove any key-value pair you want from a dictionary. To do so use the del keyword and the dictionary name, followed by the key in square brackets. This will delete the key and its associated value."
   ]
  },
  {
   "cell_type": "code",
   "execution_count": 7,
   "metadata": {},
   "outputs": [
    {
     "name": "stdout",
     "output_type": "stream",
     "text": [
      "{'color': 'green', 'points': 5}\n",
      "{'color': 'green'}\n"
     ]
    }
   ],
   "source": [
    "# Deleting a key-value pair \n",
    "a_dictionary = {'color': 'green', 'points' : 5}\n",
    "print(a_dictionary)\n",
    "\n",
    "del a_dictionary['points']\n",
    "print(a_dictionary)"
   ]
  },
  {
   "cell_type": "markdown",
   "metadata": {},
   "source": [
    "## Looping through a dictionary\n",
    "_You can loop through a dictionary in three ways: you can loop through all the key-value, all the keys, or all the values_.\n",
    "\n",
    "A **dictionary** only tracks the connections between keys and values; it doesn'track the order of items in the dictionary. If you want to process the information in order, you can sory the keys in your in loop."
   ]
  },
  {
   "cell_type": "code",
   "execution_count": 8,
   "metadata": {},
   "outputs": [
    {
     "name": "stdout",
     "output_type": "stream",
     "text": [
      "('Bob', ': ', 'Biryani')\n",
      "('Fedric', ': ', 'Burger')\n",
      "('Najah', ': ', 'Pasta')\n"
     ]
    }
   ],
   "source": [
    "# Looping through all key-value pairs\n",
    "#  Store people favourite food.\n",
    "\n",
    "fav_food = {\n",
    "    'Bob': 'Biryani',\n",
    "    'Fedric': 'Burger',\n",
    "    'Najah' : 'Pasta',\n",
    "}\n",
    "# Show each person's favourite food\n",
    "for name, food in fav_food.items():\n",
    "    print(name, ': ',food)"
   ]
  },
  {
   "cell_type": "code",
   "execution_count": 9,
   "metadata": {},
   "outputs": [
    {
     "name": "stdout",
     "output_type": "stream",
     "text": [
      "Pasta\n",
      "Pasta\n",
      "Pasta\n"
     ]
    }
   ],
   "source": [
    "# looping through all the keys\n",
    "# show everyone's who's taking the survey \n",
    "for name in fav_food.values():\n",
    "    print(food)"
   ]
  },
  {
   "cell_type": "code",
   "execution_count": 10,
   "metadata": {},
   "outputs": [
    {
     "ename": "SyntaxError",
     "evalue": "invalid syntax (<ipython-input-10-7ab7aa180018>, line 5)",
     "output_type": "error",
     "traceback": [
      "\u001b[0;36m  File \u001b[0;32m\"<ipython-input-10-7ab7aa180018>\"\u001b[0;36m, line \u001b[0;32m5\u001b[0m\n\u001b[0;31m    print(\"Food name: \"food)\u001b[0m\n\u001b[0m                          ^\u001b[0m\n\u001b[0;31mSyntaxError\u001b[0m\u001b[0;31m:\u001b[0m invalid syntax\n"
     ]
    }
   ],
   "source": [
    "# looping through all the keys in order\n",
    "# Show each person's favourite language,\n",
    "for name in sorted(fav_food.keys()):\n",
    "    print(name,\": \", food)\n",
    "    print(\"Food name: \"food)"
   ]
  },
  {
   "cell_type": "markdown",
   "metadata": {},
   "source": [
    "## Dictionary length \n",
    "_You can find the number of key-value pairs in a dictionary_"
   ]
  },
  {
   "cell_type": "code",
   "execution_count": 11,
   "metadata": {},
   "outputs": [
    {
     "name": "stdout",
     "output_type": "stream",
     "text": [
      "('length is: ', 3)\n"
     ]
    }
   ],
   "source": [
    "# Finding a dictionary's length \n",
    "num_response = len(fav_food)\n",
    "print('length is: ', num_response)"
   ]
  },
  {
   "cell_type": "markdown",
   "metadata": {},
   "source": [
    "## Nesting - A list of dictionaries\n",
    "_It's sometimes useful to store a set of dictionaries in a list; this is called **nesting**_."
   ]
  },
  {
   "cell_type": "code",
   "execution_count": 2,
   "metadata": {},
   "outputs": [
    {
     "name": "stdout",
     "output_type": "stream",
     "text": [
      "username:addi1\n",
      "last:addi\n",
      "first:add\n",
      "\n",
      "\n",
      "username:tafe\n",
      "last:half penny\n",
      "first:David\n",
      "\n",
      "\n"
     ]
    }
   ],
   "source": [
    "# start with an empty list \n",
    "users = []\n",
    "# Make a new user, and add them to the list\n",
    "new_user = {\n",
    "    'last': 'addi',\n",
    "    'first': 'add',\n",
    "    'username':'addi1',\n",
    "}\n",
    "users.append(new_user)\n",
    "# Make another new user, and add them as well.\n",
    "new_user = {\n",
    "    'last': 'half penny',\n",
    "    'first': 'David',\n",
    "    'username':'tafe',\n",
    "}\n",
    "users.append(new_user)\n",
    "\n",
    "# show all information about each user\n",
    "for user_dict in users:\n",
    "    for k, v in user_dict.items():\n",
    "        print(k + \":\" + v)\n",
    "    print(\"\\n\")"
   ]
  },
  {
   "cell_type": "code",
   "execution_count": 1,
   "metadata": {},
   "outputs": [
    {
     "name": "stdout",
     "output_type": "stream",
     "text": [
      "username: addil\n",
      "last: addi\n",
      "first: add\n",
      "\n",
      "\n",
      "username: tafe\n",
      "last: half penny\n",
      "first: david\n",
      "\n",
      "\n"
     ]
    }
   ],
   "source": [
    "# You can also define a list of dictionary directly, without using append():\n",
    "# Define a list of users, where each user\n",
    "# is represented by a dictionary.\n",
    "\n",
    "users = [\n",
    "    {\n",
    "        'last': 'addi',\n",
    "        'first': 'add',\n",
    "        'username': 'addil',\n",
    "    },\n",
    "{    'last': 'half penny',\n",
    "    'first': 'david',\n",
    "    'username': 'tafe',\n",
    "},\n",
    " ]\n",
    "# show all informationa about each user.\n",
    "for user_dict in users:\n",
    "    for k, v in user_dict.items():\n",
    "        print(k + \": \" + v)\n",
    "    print(\"\\n\")"
   ]
  },
  {
   "cell_type": "markdown",
   "metadata": {},
   "source": [
    "## Nesting -- Lists in a dictionary \n",
    "####  Store a list inside a dictionary alows you to associate more than on value with each day"
   ]
  },
  {
   "cell_type": "code",
   "execution_count": 2,
   "metadata": {},
   "outputs": [
    {
     "name": "stdout",
     "output_type": "stream",
     "text": [
      "('sarah', ':')\n",
      "('- ', 'c')\n",
      "('edward', ':')\n",
      "('- ', 'ruby')\n",
      "('- ', 'go')\n",
      "('jen', ':')\n",
      "('- ', 'python')\n",
      "('- ', 'ruby')\n",
      "('phil', ':')\n",
      "('- ', 'python')\n",
      "('- ', 'haskell')\n"
     ]
    }
   ],
   "source": [
    "# Store multiple languages for each person. \n",
    "fav_language = {\n",
    "    'jen': ['python', 'ruby'],\n",
    "    'sarah':['c'],\n",
    "    'edward':['ruby','go'],\n",
    "    'phil':['python', 'haskell'],\n",
    "}\n",
    "# show all responses for each person.\n",
    "for name, langs in fav_language.items():\n",
    "    print(name, \":\")\n",
    "    for lang in langs:\n",
    "        print(\"- \", lang)\n",
    "    "
   ]
  },
  {
   "cell_type": "markdown",
   "metadata": {},
   "source": [
    "### Nesting -- A dictionary of dictionary\n",
    "You can store a dictionary inside another dictionary. In this case each value associated with a key is itself a dictionary."
   ]
  },
  {
   "cell_type": "code",
   "execution_count": 11,
   "metadata": {},
   "outputs": [
    {
     "name": "stdout",
     "output_type": "stream",
     "text": [
      "('username: ', 'mcurie')\n",
      "('Full name:', 'Marie Curie')\n",
      "('Location:', 'Paris')\n",
      "('username: ', 'aeintein')\n",
      "('Full name:', 'Albert Einstein')\n",
      "('Location:', 'Sydney')\n"
     ]
    }
   ],
   "source": [
    "users = {\n",
    "    'aeintein': {\n",
    "        'first': 'albert',\n",
    "        'last': 'einstein',\n",
    "        'location': 'sydney',\n",
    "    },\n",
    "    'mcurie': {\n",
    "        'first': 'marie',\n",
    "        'last': 'curie',\n",
    "        'location': 'paris',\n",
    "    },\n",
    "}\n",
    "for username, user_dict in users.items():\n",
    "    print(\"username: \", username)\n",
    "    full_name = user_dict['first'] + \" \"\n",
    "    full_name += user_dict['last']\n",
    "    location = user_dict['location']\n",
    "    \n",
    "    print(\"Full name:\", full_name.title())\n",
    "    print(\"Location:\" , location.title())"
   ]
  },
  {
   "cell_type": "markdown",
   "metadata": {},
   "source": [
    "### Using an Ordered Dictionary \n",
    "Standard Python dictionaries don't keep track of the order in which keys and values are added; they only preserve the association between each keys and its value. If you to preserve the order in which keys and values are added, use an OrderedDict."
   ]
  },
  {
   "cell_type": "code",
   "execution_count": 1,
   "metadata": {},
   "outputs": [
    {
     "name": "stdout",
     "output_type": "stream",
     "text": [
      "jen:\n",
      "- python\n",
      "- ruby\n",
      "sarah:\n",
      "- c\n",
      "edward:\n",
      "- ruby\n",
      "- go\n",
      "phil:\n",
      "- python\n",
      "- haskell\n"
     ]
    }
   ],
   "source": [
    "# Preserving the order of keys and values\n",
    "from collections import OrderedDict \n",
    "# Store each person's languages, keeping # track of who respoded first. \n",
    "fav_languages = OrderedDict() \n",
    "\n",
    "fav_languages['jen'] = ['python', 'ruby'] \n",
    "fav_languages['sarah'] = ['c'] \n",
    "fav_languages['edward'] = ['ruby', 'go'] \n",
    "fav_languages['phil'] = ['python', 'haskell'] \n",
    "# Display the results, in the same order they \n",
    "# were entered.\n",
    "for name, langs in fav_languages.items(): \n",
    "    print(name + \":\")\n",
    "    for lang in langs: \n",
    "        print(\"- \" + lang)"
   ]
  },
  {
   "cell_type": "markdown",
   "metadata": {},
   "source": [
    "### Generating a hundred dictionaries\n",
    "You can use loop to generate a large number of dictionaries effeciently. If all the dictionary start out with similar data."
   ]
  },
  {
   "cell_type": "code",
   "execution_count": null,
   "metadata": {},
   "outputs": [],
   "source": [
    "# A hundred aliens \n",
    "aliens = []\n",
    "# Make a hundred green aliens, worth 5 points\n",
    "# each. Have them all start in one row.\n",
    "for alien_num in range(100):\n",
    "    new_alien = {}\n",
    "    new_alien = ['color'] = 'green'\n",
    "    new_alien = ['points'] = 5\n",
    "    new_alien['x'] = 20 * alien_num\n",
    "    new_alien['y'] = 0\n",
    "    aliens.append(new_alien)\n",
    "# prove the list contains a hundred alie"
   ]
  }
 ],
 "metadata": {
  "kernelspec": {
   "display_name": "Python 2",
   "language": "python",
   "name": "python2"
  },
  "language_info": {
   "codemirror_mode": {
    "name": "ipython",
    "version": 2
   },
   "file_extension": ".py",
   "mimetype": "text/x-python",
   "name": "python",
   "nbconvert_exporter": "python",
   "pygments_lexer": "ipython2",
   "version": "2.7.17"
  }
 },
 "nbformat": 4,
 "nbformat_minor": 2
}
