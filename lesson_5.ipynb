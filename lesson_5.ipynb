{
 "cells": [
  {
   "cell_type": "markdown",
   "metadata": {},
   "source": [
    "## Dictionaries\n",
    "**What are dictionaries?**\n",
    "\n",
    "_Python's **dictionaries** allow you to connect pieces of related information. Each pieces of information in a dictionary is stored as a key-value pair. When you provide a key. You can loop through all the key-value pairs, all the keys, or all the values._"
   ]
  },
  {
   "cell_type": "markdown",
   "metadata": {},
   "source": [
    "## Defining a dictionary \n",
    "Use curly braces to define a dictionary. Use colons to connect keys and values, and use commas to separate indivisual key-value pairs."
   ]
  },
  {
   "cell_type": "code",
   "execution_count": 2,
   "metadata": {},
   "outputs": [],
   "source": [
    "# Making a dictionary\n",
    "a_dictionary = {'color': 'green', 'points': 5}"
   ]
  },
  {
   "cell_type": "markdown",
   "metadata": {},
   "source": [
    "## Accessing Values\n",
    "_To access the value associated with an individual key give the name of the dictionary and then place the key in a set of square brackets. If the keys you're asking for is not in the dictionary, an error will occur_.\n",
    "    You can also use the get() method, which returns None instead of an error if the key doesn't exist. You can also specify a default value to use if the key is not in the dictionary."
   ]
  },
  {
   "cell_type": "code",
   "execution_count": 3,
   "metadata": {},
   "outputs": [
    {
     "name": "stdout",
     "output_type": "stream",
     "text": [
      "green\n",
      "5\n"
     ]
    }
   ],
   "source": [
    "# Getting the value associated with a key\n",
    "a_dictionary = {'color': 'green', 'points': 5}\n",
    "\n",
    "print(a_dictionary['color'])\n",
    "print(a_dictionary['points'])"
   ]
  },
  {
   "cell_type": "code",
   "execution_count": 4,
   "metadata": {},
   "outputs": [
    {
     "name": "stdout",
     "output_type": "stream",
     "text": [
      "green\n",
      "0\n"
     ]
    }
   ],
   "source": [
    "# getting the value with get()\n",
    "a_dictionary = {'color' : 'green'}\n",
    "\n",
    "a_color = a_dictionary.get('color')\n",
    "a_points = a_dictionary.get('points', 0)\n",
    "\n",
    "print(a_color)\n",
    "print(a_points)"
   ]
  },
  {
   "cell_type": "markdown",
   "metadata": {},
   "source": [
    "## Adding new key-value pairs\n",
    "You can store as many key-value pairs as you want in a dictionary, until your computer runs out of memory. To add a new key-value pair to an existing dictionary give the name of the dictionary and the new key in Square brackets, and set it equal to the new value.\n",
    "\n",
    "    This also allows you to start with an empty   dictionary and add key-value pairs as they    become relevant."
   ]
  },
  {
   "cell_type": "code",
   "execution_count": 5,
   "metadata": {},
   "outputs": [
    {
     "name": "stdout",
     "output_type": "stream",
     "text": [
      "{'color': 'green', 'points': 5, 'x': 0, 'y': 25, 'speed': 1.5}\n"
     ]
    }
   ],
   "source": [
    "a_dictionary = {'color': 'green', 'points': 5}\n",
    "a_dictionary['x'] = 0\n",
    "a_dictionary['y'] = 25\n",
    "a_dictionary['speed'] =1.5\n",
    "print(a_dictionary)"
   ]
  },
  {
   "cell_type": "code",
   "execution_count": 6,
   "metadata": {},
   "outputs": [
    {
     "name": "stdout",
     "output_type": "stream",
     "text": [
      "{'color': 'green', 'points': 5}\n"
     ]
    }
   ],
   "source": [
    "# Adding to an empty list\n",
    "a_dictionary = {}\n",
    "a_dictionary['color'] = 'green'\n",
    "a_dictionary['points'] = 5\n",
    "print(a_dictionary)"
   ]
  },
  {
   "cell_type": "markdown",
   "metadata": {},
   "source": [
    "## Removing key-value pairs\n",
    "You can remove any key-value pair you want from a dictionary. To do so use the del keyword and the dictionary name, followed by the key in square brackets. This will delete the key and its associated value."
   ]
  },
  {
   "cell_type": "code",
   "execution_count": 7,
   "metadata": {},
   "outputs": [
    {
     "name": "stdout",
     "output_type": "stream",
     "text": [
      "{'color': 'green', 'points': 5}\n",
      "{'color': 'green'}\n"
     ]
    }
   ],
   "source": [
    "# Deleting a key-value pair \n",
    "a_dictionary = {'color': 'green', 'points' : 5}\n",
    "print(a_dictionary)\n",
    "\n",
    "del a_dictionary['points']\n",
    "print(a_dictionary)"
   ]
  },
  {
   "cell_type": "markdown",
   "metadata": {},
   "source": [
    "## Looping through a dictionary\n",
    "_You can loop through a dictionary in three ways: you can loop through all the key-value, all the keys, or all the values_.\n",
    "\n",
    "A **dictionary** only tracks the connections between keys and values; it doesn'track the order of items in the dictionary. If you want to process the information in order, you can sory the keys in your in loop."
   ]
  },
  {
   "cell_type": "code",
   "execution_count": 8,
   "metadata": {},
   "outputs": [
    {
     "name": "stdout",
     "output_type": "stream",
     "text": [
      "Bob :  Biryani\n",
      "Fedric :  Burger\n",
      "Najah :  Pasta\n"
     ]
    }
   ],
   "source": [
    "# Looping through all key-value pairs\n",
    "#  Store people favourite food.\n",
    "\n",
    "fav_food = {\n",
    "    'Bob': 'Biryani',\n",
    "    'Fedric': 'Burger',\n",
    "    'Najah' : 'Pasta',\n",
    "}\n",
    "# Show each person's favourite food\n",
    "for name, food in fav_food.items():\n",
    "    print(name, ': ',food)"
   ]
  },
  {
   "cell_type": "code",
   "execution_count": 9,
   "metadata": {},
   "outputs": [
    {
     "name": "stdout",
     "output_type": "stream",
     "text": [
      "Pasta\n",
      "Pasta\n",
      "Pasta\n"
     ]
    }
   ],
   "source": [
    "# looping through all the keys\n",
    "# show everyone's who's taking the survey \n",
    "for name in fav_food.values():\n",
    "    print(food)"
   ]
  },
  {
   "cell_type": "code",
   "execution_count": 10,
   "metadata": {},
   "outputs": [
    {
     "name": "stdout",
     "output_type": "stream",
     "text": [
      "Bob :  Pasta\n",
      "Pasta\n",
      "Fedric :  Pasta\n",
      "Pasta\n",
      "Najah :  Pasta\n",
      "Pasta\n"
     ]
    }
   ],
   "source": [
    "# looping through all the keys in order\n",
    "# Show each person's favourite language,\n",
    "for name in sorted(fav_food.keys()):\n",
    "    print(name,\": \", food)\n",
    "    print(food)"
   ]
  },
  {
   "cell_type": "markdown",
   "metadata": {},
   "source": [
    "## Dictionary length \n",
    "_You can find the number of key-value pairs in a dictionary_"
   ]
  },
  {
   "cell_type": "code",
   "execution_count": 14,
   "metadata": {},
   "outputs": [
    {
     "name": "stdout",
     "output_type": "stream",
     "text": [
      "length is:  3\n"
     ]
    }
   ],
   "source": [
    "# Finding a dictionary's length \n",
    "num_response = len(fav_food)\n",
    "print('length is: ', num_response)"
   ]
  },
  {
   "cell_type": "markdown",
   "metadata": {},
   "source": [
    "## Nesting - A list of dictionaries\n",
    "_It's sometimes useful to store a set of dictionaries in a list; this is called **nesting**_."
   ]
  },
  {
   "cell_type": "code",
   "execution_count": null,
   "metadata": {},
   "outputs": [],
   "source": []
  }
 ],
 "metadata": {
  "kernelspec": {
   "display_name": "Python 2",
   "language": "python",
   "name": "python2"
  },
  "language_info": {
   "codemirror_mode": {
    "name": "ipython",
    "version": 2
   },
   "file_extension": ".py",
   "mimetype": "text/x-python",
   "name": "python",
   "nbconvert_exporter": "python",
   "pygments_lexer": "ipython2",
   "version": "2.7.17"
  }
 },
 "nbformat": 4,
 "nbformat_minor": 2
}
