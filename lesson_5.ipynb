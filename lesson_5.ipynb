{
 "cells": [
  {
   "cell_type": "markdown",
   "metadata": {},
   "source": [
    "## Dictionaries\n",
    "**What are dictionaries?**\n",
    "\n",
    "_Python's **dictionaries** allow you to connect pieces of related information. Each pieces of information in a dictionary is stored as a key-value pair. When you provide a key. You can loop through all the key-value pairs, all the keys, or all the values._"
   ]
  },
  {
   "cell_type": "markdown",
   "metadata": {},
   "source": [
    "## Defining a dictionary \n",
    "Use curly braces to define a dictionary. Use colons to connect keys and values, and use commas to separate indivisual key-value pairs."
   ]
  },
  {
   "cell_type": "code",
   "execution_count": 1,
   "metadata": {},
   "outputs": [],
   "source": [
    "# Making a dictionary\n",
    "a_dictionary = {'color': 'green', 'points': 5}"
   ]
  },
  {
   "cell_type": "markdown",
   "metadata": {},
   "source": [
    "## Accessing Values\n",
    "_To access the value associated with an individual key give the name of the dictionary and then place the key in a set of square brackets. If the keys you're asking for is not in the dictionary, an error will occur_.\n",
    "    You can also use the get() method, which returns None instead of an error if the key doesn't exist. You can also specify a default value to use if the key is not in the dictionary."
   ]
  },
  {
   "cell_type": "code",
   "execution_count": 5,
   "metadata": {},
   "outputs": [
    {
     "name": "stdout",
     "output_type": "stream",
     "text": [
      "green\n",
      "5\n"
     ]
    }
   ],
   "source": [
    "# Getting the value associated with a key\n",
    "a_dictionary = {'color': 'green', 'points': 5}\n",
    "\n",
    "print(a_dictionary['color'])\n",
    "print(a_dictionary['points'])"
   ]
  },
  {
   "cell_type": "code",
   "execution_count": 8,
   "metadata": {},
   "outputs": [
    {
     "name": "stdout",
     "output_type": "stream",
     "text": [
      "green\n",
      "0\n"
     ]
    }
   ],
   "source": [
    "# getting the value with get()\n",
    "a_dictionary = {'color' : 'green'}\n",
    "\n",
    "a_color = a_dictionary.get('color')\n",
    "a_points = a_dictionary.get('points', 0)\n",
    "\n",
    "print(a_color)\n",
    "print(a_points)"
   ]
  },
  {
   "cell_type": "code",
   "execution_count": null,
   "metadata": {},
   "outputs": [],
   "source": []
  }
 ],
 "metadata": {
  "kernelspec": {
   "display_name": "Python 3",
   "language": "python",
   "name": "python3"
  },
  "language_info": {
   "codemirror_mode": {
    "name": "ipython",
    "version": 3
   },
   "file_extension": ".py",
   "mimetype": "text/x-python",
   "name": "python",
   "nbconvert_exporter": "python",
   "pygments_lexer": "ipython3",
   "version": "3.6.5"
  }
 },
 "nbformat": 4,
 "nbformat_minor": 2
}
